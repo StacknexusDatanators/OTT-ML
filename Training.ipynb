{
 "cells": [
  {
   "cell_type": "code",
   "execution_count": 25,
   "metadata": {},
   "outputs": [],
   "source": [
    "from sklearn.model_selection import train_test_split\n",
    "from sklearn.preprocessing import LabelEncoder\n",
    "from sklearn.linear_model import LogisticRegression\n",
    "import pandas as pd\n",
    "from datetime import datetime, timedelta\n",
    "import numpy as np"
   ]
  },
  {
   "cell_type": "code",
   "execution_count": 26,
   "metadata": {},
   "outputs": [],
   "source": [
    "train_df = pd.read_csv(\"data/training_data.csv\")"
   ]
  },
  {
   "cell_type": "code",
   "execution_count": 27,
   "metadata": {},
   "outputs": [],
   "source": [
    "def get_age(dob):\n",
    "    diff = datetime.now()-dob\n",
    "    return diff.days/365"
   ]
  },
  {
   "cell_type": "code",
   "execution_count": 28,
   "metadata": {},
   "outputs": [],
   "source": [
    "train_df[\"DOB\"] = pd.to_datetime(train_df[\"DOB\"])\n",
    "train_df[\"age\"] = train_df[\"DOB\"].apply(get_age)"
   ]
  },
  {
   "cell_type": "code",
   "execution_count": 29,
   "metadata": {},
   "outputs": [],
   "source": [
    "train_df.drop(columns = [\"DOB\"], inplace = True)"
   ]
  },
  {
   "cell_type": "code",
   "execution_count": 30,
   "metadata": {},
   "outputs": [],
   "source": [
    "train_df[\"Start_Date\"] = pd.to_datetime(train_df[\"Start_Date\"])\n",
    "train_df[\"Validity_End\"] = pd.to_datetime(train_df[\"Validity_End\"])"
   ]
  },
  {
   "cell_type": "code",
   "execution_count": 31,
   "metadata": {},
   "outputs": [],
   "source": [
    "def get_le_dict(le):\n",
    "    classes = list(le.classes_)\n",
    "    labels = [le.transform(np.array([c])) for c in classes]\n",
    "    ret_dict ={k:v[0] for k,v in zip(classes, labels)} \n",
    "    print(ret_dict)"
   ]
  },
  {
   "cell_type": "code",
   "execution_count": 32,
   "metadata": {},
   "outputs": [],
   "source": [
    "le = LabelEncoder()\n",
    "train_df[\"Contact_type\"] = le.fit_transform(train_df[\"Contact_type\"])"
   ]
  },
  {
   "cell_type": "code",
   "execution_count": 33,
   "metadata": {},
   "outputs": [
    {
     "name": "stdout",
     "output_type": "stream",
     "text": [
      "{'Email': 0, 'Phone': 1, 'Telegram': 2, 'WhatsApp': 3}\n"
     ]
    }
   ],
   "source": [
    "get_le_dict(le)"
   ]
  },
  {
   "cell_type": "code",
   "execution_count": 34,
   "metadata": {},
   "outputs": [],
   "source": [
    "le = LabelEncoder()\n",
    "train_df[\"Gender\"] = le.fit_transform(train_df[\"Gender\"])"
   ]
  },
  {
   "cell_type": "code",
   "execution_count": 35,
   "metadata": {},
   "outputs": [
    {
     "name": "stdout",
     "output_type": "stream",
     "text": [
      "{'Agender': 0, 'Bigender': 1, 'Female': 2, 'Genderfluid': 3, 'Genderqueer': 4, 'Male': 5, 'Non-binary': 6, 'Polygender': 7}\n"
     ]
    }
   ],
   "source": [
    "get_le_dict(le)"
   ]
  },
  {
   "cell_type": "code",
   "execution_count": 36,
   "metadata": {},
   "outputs": [],
   "source": [
    "train_df['Pack_ID'] = train_df['Pack_ID'].astype(int)"
   ]
  },
  {
   "cell_type": "code",
   "execution_count": 37,
   "metadata": {},
   "outputs": [],
   "source": [
    "le = LabelEncoder()\n",
    "train_df[\"Status\"] = le.fit_transform(train_df[\"Status\"])"
   ]
  },
  {
   "cell_type": "code",
   "execution_count": 38,
   "metadata": {},
   "outputs": [
    {
     "name": "stdout",
     "output_type": "stream",
     "text": [
      "{'ACTIVE': 0, 'INACTIVE': 1}\n"
     ]
    }
   ],
   "source": [
    "get_le_dict(le)"
   ]
  },
  {
   "cell_type": "code",
   "execution_count": 39,
   "metadata": {},
   "outputs": [],
   "source": [
    "le = LabelEncoder()\n",
    "train_df[\"State\"] = le.fit_transform(train_df[\"State\"])"
   ]
  },
  {
   "cell_type": "code",
   "execution_count": 40,
   "metadata": {},
   "outputs": [
    {
     "name": "stdout",
     "output_type": "stream",
     "text": [
      "{'Andhra Pradesh': 0, 'Arunachal Pradesh': 1, 'Assam': 2, 'Bihar': 3, 'Chhattisgarh': 4, 'Goa': 5, 'Gujarat': 6, 'Haryana': 7, 'Himachal Pradesh': 8, 'Jharkhand': 9, 'Karnataka': 10, 'Kerala': 11, 'Madhya Pradesh': 12, 'Maharashtra': 13, 'Manipur': 14, 'Meghalaya': 15, 'Mizoram': 16, 'Nagaland': 17, 'Odisha': 18, 'Punjab': 19, 'Rajasthan': 20, 'Sikkim': 21, 'Tamil Nadu': 22, 'Telangana': 23, 'Tripura': 24, 'Uttar Pradesh': 25, 'Uttarakhand': 26, 'West Bengal': 27}\n"
     ]
    }
   ],
   "source": [
    "get_le_dict(le)"
   ]
  },
  {
   "cell_type": "code",
   "execution_count": 41,
   "metadata": {},
   "outputs": [],
   "source": [
    "le = LabelEncoder()\n",
    "train_df[\"Billing Type\"] = le.fit_transform(train_df[\"Billing Type\"])"
   ]
  },
  {
   "cell_type": "code",
   "execution_count": 42,
   "metadata": {},
   "outputs": [
    {
     "name": "stdout",
     "output_type": "stream",
     "text": [
      "{'NetBanking': 0, 'Paytm': 1}\n"
     ]
    }
   ],
   "source": [
    "get_le_dict(le)"
   ]
  },
  {
   "cell_type": "code",
   "execution_count": 43,
   "metadata": {},
   "outputs": [],
   "source": [
    "le = LabelEncoder()\n",
    "train_df[\"Upgradable\"] = le.fit_transform(train_df[\"Upgradable\"])"
   ]
  },
  {
   "cell_type": "code",
   "execution_count": 44,
   "metadata": {},
   "outputs": [
    {
     "name": "stdout",
     "output_type": "stream",
     "text": [
      "{'NO': 0, 'YES': 1}\n"
     ]
    }
   ],
   "source": [
    "get_le_dict(le)"
   ]
  },
  {
   "cell_type": "code",
   "execution_count": 45,
   "metadata": {},
   "outputs": [],
   "source": [
    "le = LabelEncoder()\n",
    "train_df[\"freq_used_dev\"] = le.fit_transform(train_df[\"freq_used_dev\"])"
   ]
  },
  {
   "cell_type": "code",
   "execution_count": 46,
   "metadata": {},
   "outputs": [
    {
     "name": "stdout",
     "output_type": "stream",
     "text": [
      "{'Android Phone': 0, 'Android TV': 1, 'Apple TV': 2, 'FireTV': 3, 'PC/Laptop': 4, 'iPad': 5, 'iPhone': 6}\n"
     ]
    }
   ],
   "source": [
    "get_le_dict(le)"
   ]
  },
  {
   "cell_type": "code",
   "execution_count": 47,
   "metadata": {},
   "outputs": [],
   "source": [
    "train_df.drop(columns = [\"Country\"], inplace = True)"
   ]
  },
  {
   "cell_type": "code",
   "execution_count": 48,
   "metadata": {},
   "outputs": [],
   "source": [
    "churn_df = pd.read_csv(\"data/churn.csv\")"
   ]
  },
  {
   "cell_type": "code",
   "execution_count": 49,
   "metadata": {},
   "outputs": [],
   "source": [
    "train_df = train_df.merge(churn_df, on = \"profile_ID\", how = \"left\")"
   ]
  },
  {
   "cell_type": "code",
   "execution_count": 50,
   "metadata": {},
   "outputs": [],
   "source": [
    "cols2train = ['Contact_type', 'Gender', 'Pack_ID',\n",
    "       'Status', 'Upgradable', 'State', 'avg_dur', 'num_devs',\n",
    "       'freq_used_dev', 'Subscription Type', 'Billing Type',\n",
    "       'Customer Longevity', 'age' \n",
    "]"
   ]
  },
  {
   "cell_type": "code",
   "execution_count": 51,
   "metadata": {
    "scrolled": true
   },
   "outputs": [],
   "source": [
    "X = train_df[cols2train]\n",
    "y = train_df[\"churn\"]"
   ]
  },
  {
   "cell_type": "code",
   "execution_count": 52,
   "metadata": {},
   "outputs": [],
   "source": [
    "X_train, X_test, y_train, y_test = train_test_split(X, y, train_size = 0.7)"
   ]
  },
  {
   "cell_type": "code",
   "execution_count": 53,
   "metadata": {},
   "outputs": [],
   "source": [
    "lr_mod = LogisticRegression()"
   ]
  },
  {
   "cell_type": "code",
   "execution_count": 54,
   "metadata": {},
   "outputs": [
    {
     "data": {
      "text/html": [
       "<div>\n",
       "<style scoped>\n",
       "    .dataframe tbody tr th:only-of-type {\n",
       "        vertical-align: middle;\n",
       "    }\n",
       "\n",
       "    .dataframe tbody tr th {\n",
       "        vertical-align: top;\n",
       "    }\n",
       "\n",
       "    .dataframe thead th {\n",
       "        text-align: right;\n",
       "    }\n",
       "</style>\n",
       "<table border=\"1\" class=\"dataframe\">\n",
       "  <thead>\n",
       "    <tr style=\"text-align: right;\">\n",
       "      <th></th>\n",
       "      <th>Contact_type</th>\n",
       "      <th>Gender</th>\n",
       "      <th>Pack_ID</th>\n",
       "      <th>Status</th>\n",
       "      <th>Upgradable</th>\n",
       "      <th>State</th>\n",
       "      <th>avg_dur</th>\n",
       "      <th>num_devs</th>\n",
       "      <th>freq_used_dev</th>\n",
       "      <th>Subscription Type</th>\n",
       "      <th>Billing Type</th>\n",
       "      <th>Customer Longevity</th>\n",
       "      <th>age</th>\n",
       "    </tr>\n",
       "  </thead>\n",
       "  <tbody>\n",
       "    <tr>\n",
       "      <th>335668</th>\n",
       "      <td>3</td>\n",
       "      <td>2</td>\n",
       "      <td>432802</td>\n",
       "      <td>0</td>\n",
       "      <td>0</td>\n",
       "      <td>1</td>\n",
       "      <td>1518.000000</td>\n",
       "      <td>30</td>\n",
       "      <td>4</td>\n",
       "      <td>12</td>\n",
       "      <td>1</td>\n",
       "      <td>4</td>\n",
       "      <td>20.347945</td>\n",
       "    </tr>\n",
       "    <tr>\n",
       "      <th>294643</th>\n",
       "      <td>3</td>\n",
       "      <td>2</td>\n",
       "      <td>432813</td>\n",
       "      <td>1</td>\n",
       "      <td>1</td>\n",
       "      <td>20</td>\n",
       "      <td>1344.454545</td>\n",
       "      <td>22</td>\n",
       "      <td>4</td>\n",
       "      <td>12</td>\n",
       "      <td>1</td>\n",
       "      <td>4</td>\n",
       "      <td>30.734247</td>\n",
       "    </tr>\n",
       "    <tr>\n",
       "      <th>109481</th>\n",
       "      <td>1</td>\n",
       "      <td>5</td>\n",
       "      <td>432866</td>\n",
       "      <td>1</td>\n",
       "      <td>1</td>\n",
       "      <td>21</td>\n",
       "      <td>1114.187500</td>\n",
       "      <td>16</td>\n",
       "      <td>4</td>\n",
       "      <td>3</td>\n",
       "      <td>0</td>\n",
       "      <td>2</td>\n",
       "      <td>31.005479</td>\n",
       "    </tr>\n",
       "    <tr>\n",
       "      <th>152127</th>\n",
       "      <td>1</td>\n",
       "      <td>7</td>\n",
       "      <td>432231</td>\n",
       "      <td>1</td>\n",
       "      <td>0</td>\n",
       "      <td>4</td>\n",
       "      <td>1326.950000</td>\n",
       "      <td>20</td>\n",
       "      <td>3</td>\n",
       "      <td>1</td>\n",
       "      <td>1</td>\n",
       "      <td>1</td>\n",
       "      <td>21.282192</td>\n",
       "    </tr>\n",
       "    <tr>\n",
       "      <th>194920</th>\n",
       "      <td>2</td>\n",
       "      <td>5</td>\n",
       "      <td>432458</td>\n",
       "      <td>0</td>\n",
       "      <td>0</td>\n",
       "      <td>6</td>\n",
       "      <td>1045.950000</td>\n",
       "      <td>20</td>\n",
       "      <td>3</td>\n",
       "      <td>12</td>\n",
       "      <td>1</td>\n",
       "      <td>4</td>\n",
       "      <td>1.068493</td>\n",
       "    </tr>\n",
       "    <tr>\n",
       "      <th>...</th>\n",
       "      <td>...</td>\n",
       "      <td>...</td>\n",
       "      <td>...</td>\n",
       "      <td>...</td>\n",
       "      <td>...</td>\n",
       "      <td>...</td>\n",
       "      <td>...</td>\n",
       "      <td>...</td>\n",
       "      <td>...</td>\n",
       "      <td>...</td>\n",
       "      <td>...</td>\n",
       "      <td>...</td>\n",
       "      <td>...</td>\n",
       "    </tr>\n",
       "    <tr>\n",
       "      <th>246778</th>\n",
       "      <td>2</td>\n",
       "      <td>5</td>\n",
       "      <td>432486</td>\n",
       "      <td>1</td>\n",
       "      <td>1</td>\n",
       "      <td>1</td>\n",
       "      <td>1507.173913</td>\n",
       "      <td>23</td>\n",
       "      <td>3</td>\n",
       "      <td>1</td>\n",
       "      <td>1</td>\n",
       "      <td>1</td>\n",
       "      <td>7.654795</td>\n",
       "    </tr>\n",
       "    <tr>\n",
       "      <th>244882</th>\n",
       "      <td>2</td>\n",
       "      <td>2</td>\n",
       "      <td>432674</td>\n",
       "      <td>1</td>\n",
       "      <td>1</td>\n",
       "      <td>8</td>\n",
       "      <td>795.560000</td>\n",
       "      <td>25</td>\n",
       "      <td>3</td>\n",
       "      <td>6</td>\n",
       "      <td>0</td>\n",
       "      <td>3</td>\n",
       "      <td>29.219178</td>\n",
       "    </tr>\n",
       "    <tr>\n",
       "      <th>257937</th>\n",
       "      <td>3</td>\n",
       "      <td>5</td>\n",
       "      <td>432574</td>\n",
       "      <td>1</td>\n",
       "      <td>1</td>\n",
       "      <td>11</td>\n",
       "      <td>1179.450000</td>\n",
       "      <td>20</td>\n",
       "      <td>4</td>\n",
       "      <td>3</td>\n",
       "      <td>0</td>\n",
       "      <td>2</td>\n",
       "      <td>25.942466</td>\n",
       "    </tr>\n",
       "    <tr>\n",
       "      <th>97806</th>\n",
       "      <td>1</td>\n",
       "      <td>2</td>\n",
       "      <td>432588</td>\n",
       "      <td>1</td>\n",
       "      <td>0</td>\n",
       "      <td>11</td>\n",
       "      <td>1125.700000</td>\n",
       "      <td>20</td>\n",
       "      <td>4</td>\n",
       "      <td>12</td>\n",
       "      <td>1</td>\n",
       "      <td>4</td>\n",
       "      <td>30.191781</td>\n",
       "    </tr>\n",
       "    <tr>\n",
       "      <th>137633</th>\n",
       "      <td>1</td>\n",
       "      <td>2</td>\n",
       "      <td>432398</td>\n",
       "      <td>1</td>\n",
       "      <td>1</td>\n",
       "      <td>15</td>\n",
       "      <td>1158.611111</td>\n",
       "      <td>18</td>\n",
       "      <td>4</td>\n",
       "      <td>3</td>\n",
       "      <td>0</td>\n",
       "      <td>2</td>\n",
       "      <td>1.076712</td>\n",
       "    </tr>\n",
       "  </tbody>\n",
       "</table>\n",
       "<p>235481 rows × 13 columns</p>\n",
       "</div>"
      ],
      "text/plain": [
       "        Contact_type  Gender  Pack_ID  Status  Upgradable  State      avg_dur  \\\n",
       "335668             3       2   432802       0           0      1  1518.000000   \n",
       "294643             3       2   432813       1           1     20  1344.454545   \n",
       "109481             1       5   432866       1           1     21  1114.187500   \n",
       "152127             1       7   432231       1           0      4  1326.950000   \n",
       "194920             2       5   432458       0           0      6  1045.950000   \n",
       "...              ...     ...      ...     ...         ...    ...          ...   \n",
       "246778             2       5   432486       1           1      1  1507.173913   \n",
       "244882             2       2   432674       1           1      8   795.560000   \n",
       "257937             3       5   432574       1           1     11  1179.450000   \n",
       "97806              1       2   432588       1           0     11  1125.700000   \n",
       "137633             1       2   432398       1           1     15  1158.611111   \n",
       "\n",
       "        num_devs  freq_used_dev  Subscription Type  Billing Type  \\\n",
       "335668        30              4                 12             1   \n",
       "294643        22              4                 12             1   \n",
       "109481        16              4                  3             0   \n",
       "152127        20              3                  1             1   \n",
       "194920        20              3                 12             1   \n",
       "...          ...            ...                ...           ...   \n",
       "246778        23              3                  1             1   \n",
       "244882        25              3                  6             0   \n",
       "257937        20              4                  3             0   \n",
       "97806         20              4                 12             1   \n",
       "137633        18              4                  3             0   \n",
       "\n",
       "        Customer Longevity        age  \n",
       "335668                   4  20.347945  \n",
       "294643                   4  30.734247  \n",
       "109481                   2  31.005479  \n",
       "152127                   1  21.282192  \n",
       "194920                   4   1.068493  \n",
       "...                    ...        ...  \n",
       "246778                   1   7.654795  \n",
       "244882                   3  29.219178  \n",
       "257937                   2  25.942466  \n",
       "97806                    4  30.191781  \n",
       "137633                   2   1.076712  \n",
       "\n",
       "[235481 rows x 13 columns]"
      ]
     },
     "execution_count": 54,
     "metadata": {},
     "output_type": "execute_result"
    }
   ],
   "source": [
    "X_train"
   ]
  },
  {
   "cell_type": "code",
   "execution_count": 55,
   "metadata": {},
   "outputs": [
    {
     "data": {
      "text/plain": [
       "LogisticRegression()"
      ]
     },
     "execution_count": 55,
     "metadata": {},
     "output_type": "execute_result"
    }
   ],
   "source": [
    "lr_mod.fit(X_train, y_train)"
   ]
  },
  {
   "cell_type": "code",
   "execution_count": 56,
   "metadata": {},
   "outputs": [
    {
     "data": {
      "text/plain": [
       "0.7989219290336005"
      ]
     },
     "execution_count": 56,
     "metadata": {},
     "output_type": "execute_result"
    }
   ],
   "source": [
    "lr_mod.score(X_test, y_test)"
   ]
  },
  {
   "cell_type": "code",
   "execution_count": 57,
   "metadata": {},
   "outputs": [],
   "source": [
    "import pickle"
   ]
  },
  {
   "cell_type": "code",
   "execution_count": 58,
   "metadata": {},
   "outputs": [],
   "source": [
    "pickle.dump(lr_mod, open('lr_mod.p', 'wb'))"
   ]
  },
  {
   "cell_type": "code",
   "execution_count": 34,
   "metadata": {},
   "outputs": [],
   "source": [
    "import numpy as np"
   ]
  },
  {
   "cell_type": "code",
   "execution_count": 35,
   "metadata": {},
   "outputs": [],
   "source": [
    "X_test1 = np.vstack(X_test)"
   ]
  },
  {
   "cell_type": "code",
   "execution_count": 48,
   "metadata": {},
   "outputs": [],
   "source": [
    "X_test.reset_index(inplace = True, drop = True)"
   ]
  },
  {
   "cell_type": "code",
   "execution_count": 51,
   "metadata": {},
   "outputs": [
    {
     "data": {
      "text/plain": [
       "array([0.73531531, 0.26468469])"
      ]
     },
     "execution_count": 51,
     "metadata": {},
     "output_type": "execute_result"
    }
   ],
   "source": [
    "lr_mod.predict_proba(X_test.loc[0,:].values.reshape(1,-1))[0]"
   ]
  },
  {
   "cell_type": "code",
   "execution_count": null,
   "metadata": {},
   "outputs": [],
   "source": []
  }
 ],
 "metadata": {
  "kernelspec": {
   "display_name": "Python 3 (ipykernel)",
   "language": "python",
   "name": "python3"
  },
  "language_info": {
   "codemirror_mode": {
    "name": "ipython",
    "version": 3
   },
   "file_extension": ".py",
   "mimetype": "text/x-python",
   "name": "python",
   "nbconvert_exporter": "python",
   "pygments_lexer": "ipython3",
   "version": "3.9.7"
  }
 },
 "nbformat": 4,
 "nbformat_minor": 4
}
